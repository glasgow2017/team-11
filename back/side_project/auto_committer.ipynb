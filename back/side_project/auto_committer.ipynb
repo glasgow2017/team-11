{
 "cells": [
  {
   "cell_type": "code",
   "execution_count": 75,
   "metadata": {
    "collapsed": false
   },
   "outputs": [],
   "source": [
    "import time\n",
    "import os\n",
    "import random"
   ]
  },
  {
   "cell_type": "code",
   "execution_count": 76,
   "metadata": {
    "collapsed": false
   },
   "outputs": [],
   "source": [
    "fn = 'test_shake.txt'\n",
    "with open(fn, 'r') as f:\n",
    "    data = f.readlines()"
   ]
  },
  {
   "cell_type": "code",
   "execution_count": 77,
   "metadata": {
    "collapsed": false
   },
   "outputs": [
    {
     "data": {
      "text/plain": [
       "'This version '"
      ]
     },
     "execution_count": 77,
     "metadata": {},
     "output_type": "execute_result"
    }
   ],
   "source": [
    "ns = [\n",
    "    'This commission ',\n",
    "    'This version ',\n",
    "    'This piece of new code ',\n",
    "    'This new piece of code ',\n",
    "    'This '\n",
    "]\n",
    "\n",
    "actions = [\n",
    "    'changed the text file and ',\n",
    "    'removed some lines from text file, e.g. ',\n",
    "    'is not really useful, but it removes ',\n",
    "    'is from a robot -> '\n",
    "]\n",
    "\n",
    "random.choice(ns)"
   ]
  },
  {
   "cell_type": "code",
   "execution_count": 78,
   "metadata": {
    "collapsed": false
   },
   "outputs": [],
   "source": [
    "def auto_submission():\n",
    "    mess = random.choice(ns)\n",
    "    mess += random.choice(actions)\n",
    "    mess += generate_comment(data)\n",
    "    print mess\n",
    "    os.system(\"git add .\")\n",
    "    os.system(\"git commit -m \" + mess)\n",
    "    os.system(\"git push\")\n",
    "\n",
    "def generate_comment(data):\n",
    "    fn = 'test_shake.txt'\n",
    "    with open(fn, 'r') as f:\n",
    "        data = f.readlines()\n",
    "\n",
    "    data = [x for x in data if len(x) > 10 and len(x) < 100]\n",
    "    \n",
    "    message = data.pop().strip()\n",
    "    with open(fn, 'wb') as f:\n",
    "        f.writelines(data)\n",
    "    f.close()\n",
    "    return message"
   ]
  },
  {
   "cell_type": "code",
   "execution_count": null,
   "metadata": {
    "collapsed": false
   },
   "outputs": [
    {
     "name": "stdout",
     "output_type": "stream",
     "text": [
      "0 161\n",
      "This commission is not really useful, but it removes My name's Macbeth.\n",
      "1 125\n",
      "This is not really useful, but it removes YOUNG SIWARD\n",
      "2 106\n",
      "This is not really useful, but it removes What is thy name?\n",
      "3 80\n",
      "This new piece of code changed the text file and YOUNG SIWARD\n",
      "4 195\n"
     ]
    }
   ],
   "source": [
    "for i in range(100):\n",
    "    rnd = random.randint(60, 200)\n",
    "    print i, rnd\n",
    "    time.sleep(rnd)\n",
    "    auto_submission()"
   ]
  },
  {
   "cell_type": "code",
   "execution_count": null,
   "metadata": {
    "collapsed": true
   },
   "outputs": [],
   "source": []
  }
 ],
 "metadata": {
  "kernelspec": {
   "display_name": "Python 2",
   "language": "python",
   "name": "python2"
  },
  "language_info": {
   "codemirror_mode": {
    "name": "ipython",
    "version": 2
   },
   "file_extension": ".py",
   "mimetype": "text/x-python",
   "name": "python",
   "nbconvert_exporter": "python",
   "pygments_lexer": "ipython2",
   "version": "2.7.13"
  }
 },
 "nbformat": 4,
 "nbformat_minor": 2
}
