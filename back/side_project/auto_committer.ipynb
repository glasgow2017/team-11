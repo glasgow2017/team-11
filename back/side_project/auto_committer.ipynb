{
 "cells": [
  {
   "cell_type": "code",
   "execution_count": 8,
   "metadata": {
    "collapsed": false
   },
   "outputs": [],
   "source": [
    "import time\n",
    "import os\n",
    "import random"
   ]
  },
  {
   "cell_type": "code",
   "execution_count": 15,
   "metadata": {
    "collapsed": false
   },
   "outputs": [
    {
     "name": "stdout",
     "output_type": "stream",
     "text": [
      "421\n"
     ]
    }
   ],
   "source": [
    "fn = 'test_shake.txt'\n",
    "with open(fn, 'r') as f:\n",
    "    data = f.readlines()\n",
    "    \n",
    "print(len([x for x in data if len(x) > 10]))"
   ]
  },
  {
   "cell_type": "code",
   "execution_count": 10,
   "metadata": {
    "collapsed": false
   },
   "outputs": [
    {
     "data": {
      "text/plain": [
       "'This version '"
      ]
     },
     "execution_count": 10,
     "metadata": {},
     "output_type": "execute_result"
    }
   ],
   "source": [
    "ns = [\n",
    "    'This commission ',\n",
    "    'This version ',\n",
    "    'This piece of new code ',\n",
    "    'This new piece of code ',\n",
    "    'This '\n",
    "]\n",
    "\n",
    "actions = [\n",
    "    'changed the text file and ',\n",
    "    'removed some lines from text file, e.g. ',\n",
    "    'is not really useful, but it removes ',\n",
    "    'is from a robot -> '\n",
    "]\n",
    "\n",
    "random.choice(ns)"
   ]
  },
  {
   "cell_type": "code",
   "execution_count": 11,
   "metadata": {
    "collapsed": false
   },
   "outputs": [],
   "source": [
    "def auto_submission():\n",
    "    mess = random.choice(ns)\n",
    "    mess += random.choice(actions)\n",
    "    mess += generate_comment(data)\n",
    "    print mess\n",
    "    os.system(\"git add *\")\n",
    "    time.sleep(5)\n",
    "    os.system(\"git commit -m '{mess}'\".format(mess=mess))\n",
    "    time.sleep(5)\n",
    "    os.system(\"git push\")\n",
    "    \n",
    "\n",
    "def generate_comment(data):\n",
    "    fn = 'test_shake.txt'\n",
    "    with open(fn, 'r') as f:\n",
    "        data = f.readlines()\n",
    "\n",
    "    data = [x for x in data if len(x) > 10 and len(x) < 100]\n",
    "    \n",
    "    message = data.pop().strip()\n",
    "    with open(fn, 'wb') as f:\n",
    "        f.writelines(data)\n",
    "    f.close()\n",
    "    return message"
   ]
  },
  {
   "cell_type": "code",
   "execution_count": 12,
   "metadata": {
    "collapsed": false
   },
   "outputs": [
    {
     "name": "stdout",
     "output_type": "stream",
     "text": [
      "0 30\n",
      "This piece of new code is from a robot -> Exeunt, marching\n",
      "added\n",
      "commited\n",
      "pushed\n",
      "1 29\n"
     ]
    },
    {
     "ename": "KeyboardInterrupt",
     "evalue": "",
     "output_type": "error",
     "traceback": [
      "\u001b[0;31m---------------------------------------------------------------------------\u001b[0m",
      "\u001b[0;31mKeyboardInterrupt\u001b[0m                         Traceback (most recent call last)",
      "\u001b[0;32m<ipython-input-12-6d88e446a0da>\u001b[0m in \u001b[0;36m<module>\u001b[0;34m()\u001b[0m\n\u001b[1;32m      2\u001b[0m     \u001b[0mrnd\u001b[0m \u001b[0;34m=\u001b[0m \u001b[0mrandom\u001b[0m\u001b[0;34m.\u001b[0m\u001b[0mrandint\u001b[0m\u001b[0;34m(\u001b[0m\u001b[0;36m20\u001b[0m\u001b[0;34m,\u001b[0m \u001b[0;36m30\u001b[0m\u001b[0;34m)\u001b[0m\u001b[0;34m\u001b[0m\u001b[0m\n\u001b[1;32m      3\u001b[0m     \u001b[0;32mprint\u001b[0m \u001b[0mi\u001b[0m\u001b[0;34m,\u001b[0m \u001b[0mrnd\u001b[0m\u001b[0;34m\u001b[0m\u001b[0m\n\u001b[0;32m----> 4\u001b[0;31m     \u001b[0mtime\u001b[0m\u001b[0;34m.\u001b[0m\u001b[0msleep\u001b[0m\u001b[0;34m(\u001b[0m\u001b[0mrnd\u001b[0m\u001b[0;34m)\u001b[0m\u001b[0;34m\u001b[0m\u001b[0m\n\u001b[0m\u001b[1;32m      5\u001b[0m     \u001b[0mauto_submission\u001b[0m\u001b[0;34m(\u001b[0m\u001b[0;34m)\u001b[0m\u001b[0;34m\u001b[0m\u001b[0m\n",
      "\u001b[0;31mKeyboardInterrupt\u001b[0m: "
     ]
    }
   ],
   "source": [
    "for i in range(100):\n",
    "    rnd = random.randint(90, 600)\n",
    "    print i, rnd\n",
    "    time.sleep(rnd)\n",
    "    auto_submission()"
   ]
  },
  {
   "cell_type": "code",
   "execution_count": null,
   "metadata": {
    "collapsed": true
   },
   "outputs": [],
   "source": []
  }
 ],
 "metadata": {
  "kernelspec": {
   "display_name": "Python 2",
   "language": "python",
   "name": "python2"
  },
  "language_info": {
   "codemirror_mode": {
    "name": "ipython",
    "version": 2
   },
   "file_extension": ".py",
   "mimetype": "text/x-python",
   "name": "python",
   "nbconvert_exporter": "python",
   "pygments_lexer": "ipython2",
   "version": "2.7.13"
  }
 },
 "nbformat": 4,
 "nbformat_minor": 2
}
