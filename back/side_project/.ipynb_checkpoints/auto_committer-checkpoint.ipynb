{
 "cells": [
  {
   "cell_type": "code",
   "execution_count": 70,
   "metadata": {
    "collapsed": false
   },
   "outputs": [],
   "source": [
    "import time\n",
    "import os\n",
    "import random"
   ]
  },
  {
   "cell_type": "code",
   "execution_count": 71,
   "metadata": {
    "collapsed": false
   },
   "outputs": [],
   "source": [
    "fn = 'test_shake.txt'\n",
    "with open(fn, 'r') as f:\n",
    "    data = f.readlines()"
   ]
  },
  {
   "cell_type": "code",
   "execution_count": 72,
   "metadata": {
    "collapsed": false
   },
   "outputs": [
    {
     "data": {
      "text/plain": [
       "'This piece of new code '"
      ]
     },
     "execution_count": 72,
     "metadata": {},
     "output_type": "execute_result"
    }
   ],
   "source": [
    "ns = [\n",
    "    'This commission ',\n",
    "    'This version ',\n",
    "    'This piece of new code ',\n",
    "    'This new piece of code ',\n",
    "    'This '\n",
    "]\n",
    "\n",
    "actions = [\n",
    "    'changed the text file and ',\n",
    "    'removed some lines from text file, e.g. ',\n",
    "    'is not really useful, but it removes ',\n",
    "    'is from a robot -> '\n",
    "]\n",
    "\n",
    "random.choice(ns)"
   ]
  },
  {
   "cell_type": "code",
   "execution_count": 73,
   "metadata": {
    "collapsed": false
   },
   "outputs": [],
   "source": [
    "def auto_submission():\n",
    "    mess = random.choice(ns)\n",
    "    mess += random.choice(actions)\n",
    "    mess += generate_comment(data)\n",
    "    print mess\n",
    "    os.system(\"git add .\")\n",
    "    os.system(\"git commit -m \" + mess)\n",
    "    os.system(\"git push\")\n",
    "\n",
    "def generate_comment(data):\n",
    "    fn = 'test_shake.txt'\n",
    "    with open(fn, 'r') as f:\n",
    "        data = f.readlines()\n",
    "\n",
    "    data = [x for x in data if len(x) > 10 and len(x) < 100]\n",
    "    \n",
    "    message = data.pop().strip()\n",
    "    with open(fn, 'wb') as f:\n",
    "        f.writelines(data)\n",
    "    f.close()\n",
    "    return message"
   ]
  },
  {
   "cell_type": "code",
   "execution_count": 74,
   "metadata": {
    "collapsed": false
   },
   "outputs": [
    {
     "name": "stdout",
     "output_type": "stream",
     "text": [
      "0 29\n",
      "This changed the text file and Enter MACDUFF\n",
      "1 25\n",
      "This version is from a robot -> Enter MACBETH\n",
      "2 29\n",
      "This commission changed the text file and Exeunt. Alarums\n",
      "3 30\n",
      "This commission removed some lines from text file, e.g. Exit. Alarums\n",
      "4 28\n",
      "This commission is from a robot -> YOUNG SIWARD\n",
      "5 26\n",
      "This commission is not really useful, but it removes YOUNG SIWARD\n",
      "6 21\n"
     ]
    },
    {
     "ename": "KeyboardInterrupt",
     "evalue": "",
     "output_type": "error",
     "traceback": [
      "\u001b[0;31m---------------------------------------------------------------------------\u001b[0m",
      "\u001b[0;31mKeyboardInterrupt\u001b[0m                         Traceback (most recent call last)",
      "\u001b[0;32m<ipython-input-74-6d88e446a0da>\u001b[0m in \u001b[0;36m<module>\u001b[0;34m()\u001b[0m\n\u001b[1;32m      2\u001b[0m     \u001b[0mrnd\u001b[0m \u001b[0;34m=\u001b[0m \u001b[0mrandom\u001b[0m\u001b[0;34m.\u001b[0m\u001b[0mrandint\u001b[0m\u001b[0;34m(\u001b[0m\u001b[0;36m20\u001b[0m\u001b[0;34m,\u001b[0m \u001b[0;36m30\u001b[0m\u001b[0;34m)\u001b[0m\u001b[0;34m\u001b[0m\u001b[0m\n\u001b[1;32m      3\u001b[0m     \u001b[0;32mprint\u001b[0m \u001b[0mi\u001b[0m\u001b[0;34m,\u001b[0m \u001b[0mrnd\u001b[0m\u001b[0;34m\u001b[0m\u001b[0m\n\u001b[0;32m----> 4\u001b[0;31m     \u001b[0mtime\u001b[0m\u001b[0;34m.\u001b[0m\u001b[0msleep\u001b[0m\u001b[0;34m(\u001b[0m\u001b[0mrnd\u001b[0m\u001b[0;34m)\u001b[0m\u001b[0;34m\u001b[0m\u001b[0m\n\u001b[0m\u001b[1;32m      5\u001b[0m     \u001b[0mauto_submission\u001b[0m\u001b[0;34m(\u001b[0m\u001b[0;34m)\u001b[0m\u001b[0;34m\u001b[0m\u001b[0m\n",
      "\u001b[0;31mKeyboardInterrupt\u001b[0m: "
     ]
    }
   ],
   "source": [
    "for i in range(100):\n",
    "    rnd = random.randint(60, 200)\n",
    "    print i, rnd\n",
    "    time.sleep(rnd)\n",
    "    auto_submission()"
   ]
  },
  {
   "cell_type": "code",
   "execution_count": null,
   "metadata": {
    "collapsed": true
   },
   "outputs": [],
   "source": []
  }
 ],
 "metadata": {
  "kernelspec": {
   "display_name": "Python 2",
   "language": "python",
   "name": "python2"
  },
  "language_info": {
   "codemirror_mode": {
    "name": "ipython",
    "version": 2
   },
   "file_extension": ".py",
   "mimetype": "text/x-python",
   "name": "python",
   "nbconvert_exporter": "python",
   "pygments_lexer": "ipython2",
   "version": "2.7.13"
  }
 },
 "nbformat": 4,
 "nbformat_minor": 2
}
