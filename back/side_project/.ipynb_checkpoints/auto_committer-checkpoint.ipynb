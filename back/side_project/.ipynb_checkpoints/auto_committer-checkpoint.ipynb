{
 "cells": [
  {
   "cell_type": "code",
   "execution_count": 80,
   "metadata": {
    "collapsed": false
   },
   "outputs": [],
   "source": [
    "import time\n",
    "import os\n",
    "import random"
   ]
  },
  {
   "cell_type": "code",
   "execution_count": 81,
   "metadata": {
    "collapsed": false
   },
   "outputs": [],
   "source": [
    "fn = 'test_shake.txt'\n",
    "with open(fn, 'r') as f:\n",
    "    data = f.readlines()"
   ]
  },
  {
   "cell_type": "code",
   "execution_count": 82,
   "metadata": {
    "collapsed": false
   },
   "outputs": [
    {
     "data": {
      "text/plain": [
       "'This new piece of code '"
      ]
     },
     "execution_count": 82,
     "metadata": {},
     "output_type": "execute_result"
    }
   ],
   "source": [
    "ns = [\n",
    "    'This commission ',\n",
    "    'This version ',\n",
    "    'This piece of new code ',\n",
    "    'This new piece of code ',\n",
    "    'This '\n",
    "]\n",
    "\n",
    "actions = [\n",
    "    'changed the text file and ',\n",
    "    'removed some lines from text file, e.g. ',\n",
    "    'is not really useful, but it removes ',\n",
    "    'is from a robot -> '\n",
    "]\n",
    "\n",
    "random.choice(ns)"
   ]
  },
  {
   "cell_type": "code",
   "execution_count": 85,
   "metadata": {
    "collapsed": false
   },
   "outputs": [],
   "source": [
    "def auto_submission():\n",
    "    mess = random.choice(ns)\n",
    "    mess += random.choice(actions)\n",
    "    mess += generate_comment(data)\n",
    "    print mess\n",
    "    os.system(\"git add *\")\n",
    "    time.sleep(5)\n",
    "    print('added')\n",
    "    os.system(\"git commit -m '{mess}'\".format(mess=mess))\n",
    "    print('commited')\n",
    "    time.sleep(5)\n",
    "    os.system(\"git push\")\n",
    "    print('pushed')\n",
    "    \n",
    "\n",
    "def generate_comment(data):\n",
    "    fn = 'test_shake.txt'\n",
    "    with open(fn, 'r') as f:\n",
    "        data = f.readlines()\n",
    "\n",
    "    data = [x for x in data if len(x) > 10 and len(x) < 100]\n",
    "    \n",
    "    message = data.pop().strip()\n",
    "    with open(fn, 'wb') as f:\n",
    "        f.writelines(data)\n",
    "    f.close()\n",
    "    return message"
   ]
  },
  {
   "cell_type": "code",
   "execution_count": null,
   "metadata": {
    "collapsed": false
   },
   "outputs": [
    {
     "name": "stdout",
     "output_type": "stream",
     "text": [
      "0 28\n",
      "This changed the text file and Fare you well.\n",
      "1 27\n",
      "This new piece of code is not really useful, but it removes Liar and slave!\n",
      "2 22\n",
      "This piece of new code is not really useful, but it removes Well, say, sir.\n",
      "3 21\n",
      "This removed some lines from text file, e.g. Gracious my lord,\n",
      "4 21\n",
      "This piece of new code is from a robot -> Enter a Messenger\n"
     ]
    }
   ],
   "source": [
    "for i in range(100):\n",
    "    rnd = random.randint(20, 30)\n",
    "    print i, rnd\n",
    "    time.sleep(rnd)\n",
    "    auto_submission()"
   ]
  },
  {
   "cell_type": "code",
   "execution_count": null,
   "metadata": {
    "collapsed": true
   },
   "outputs": [],
   "source": []
  }
 ],
 "metadata": {
  "kernelspec": {
   "display_name": "Python 2",
   "language": "python",
   "name": "python2"
  },
  "language_info": {
   "codemirror_mode": {
    "name": "ipython",
    "version": 2
   },
   "file_extension": ".py",
   "mimetype": "text/x-python",
   "name": "python",
   "nbconvert_exporter": "python",
   "pygments_lexer": "ipython2",
   "version": "2.7.13"
  }
 },
 "nbformat": 4,
 "nbformat_minor": 2
}
